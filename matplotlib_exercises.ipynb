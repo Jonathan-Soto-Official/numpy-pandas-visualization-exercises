{
 "cells": [
  {
   "cell_type": "markdown",
   "id": "cf680a1a",
   "metadata": {},
   "source": [
    "1. Use matplotlib to plot the following equation:\n",
    "\n",
    "         y = x^(2) - x + 2\n",
    "\n",
    "You'll need to write the code that generates the x and y points.\n",
    "\n",
    "Add an anotation for the point 0, 0, the origin."
   ]
  },
  {
   "cell_type": "code",
   "execution_count": null,
   "id": "f4f77177",
   "metadata": {},
   "outputs": [],
   "source": []
  },
  {
   "cell_type": "markdown",
   "id": "55c0b211",
   "metadata": {},
   "source": [
    "2. Create and label 4 separate charts for the following equations (choose a range for x that makes sense):\n",
    "\n",
    "   - y = x^(1/2)\n",
    "   - y = x^(3)\n",
    "   - y = 2^(x)\n",
    "   - y = 1/(x + 1)\n",
    "   \n",
    "You can use functions from the math module to help implement some of the equations above."
   ]
  },
  {
   "cell_type": "code",
   "execution_count": null,
   "id": "36556335",
   "metadata": {},
   "outputs": [],
   "source": []
  },
  {
   "cell_type": "markdown",
   "id": "04b3fd5d",
   "metadata": {},
   "source": [
    "3. Combine the figures you created in the last step into one large figure with 4 subplots."
   ]
  },
  {
   "cell_type": "code",
   "execution_count": null,
   "id": "c48d4dfd",
   "metadata": {},
   "outputs": [],
   "source": []
  },
  {
   "cell_type": "markdown",
   "id": "7e49d2a8",
   "metadata": {},
   "source": [
    "4. Combine the figures you created in the last step into one figure where each of the 4 equations has a different color for the points. Be sure to include a legend and an appropriate title for the figure."
   ]
  },
  {
   "cell_type": "code",
   "execution_count": null,
   "id": "c8bb3ce8",
   "metadata": {},
   "outputs": [],
   "source": []
  }
 ],
 "metadata": {
  "kernelspec": {
   "display_name": "Python 3 (ipykernel)",
   "language": "python",
   "name": "python3"
  },
  "language_info": {
   "codemirror_mode": {
    "name": "ipython",
    "version": 3
   },
   "file_extension": ".py",
   "mimetype": "text/x-python",
   "name": "python",
   "nbconvert_exporter": "python",
   "pygments_lexer": "ipython3",
   "version": "3.9.12"
  }
 },
 "nbformat": 4,
 "nbformat_minor": 5
}
