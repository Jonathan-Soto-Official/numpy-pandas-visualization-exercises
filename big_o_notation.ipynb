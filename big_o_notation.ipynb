{
 "cells": [
  {
   "cell_type": "markdown",
   "id": "0f0bb008",
   "metadata": {},
   "source": [
    "- Title your chart \"Big O Notation\"\n",
    "- Label your x axis \"Elements\"\n",
    "- Label your y axis \"Operations\"\n",
    "- Label your curves or make a legend for the curves\n",
    "- Use LaTex notation where possible"
   ]
  },
  {
   "cell_type": "markdown",
   "id": "b5cda582",
   "metadata": {},
   "source": [
    "Curves to graph:"
   ]
  },
  {
   "cell_type": "markdown",
   "id": "71973219",
   "metadata": {},
   "source": [
    "- y = 0n + 1 and label the curve \"O(1)\""
   ]
  },
  {
   "cell_type": "code",
   "execution_count": null,
   "id": "caa3013e",
   "metadata": {},
   "outputs": [],
   "source": []
  },
  {
   "cell_type": "markdown",
   "id": "7105d0ee",
   "metadata": {},
   "source": [
    "- y = log() and label the curve \"O(log n)\""
   ]
  },
  {
   "cell_type": "code",
   "execution_count": null,
   "id": "a4aef795",
   "metadata": {},
   "outputs": [],
   "source": []
  },
  {
   "cell_type": "markdown",
   "id": "019004a3",
   "metadata": {},
   "source": [
    "- y = n  and label the curve \"O(n)\""
   ]
  },
  {
   "cell_type": "code",
   "execution_count": null,
   "id": "bbb6795b",
   "metadata": {},
   "outputs": [],
   "source": []
  },
  {
   "cell_type": "markdown",
   "id": "e6be45be",
   "metadata": {},
   "source": [
    "- y = n * log(n)  and label it \"O(n log n)\""
   ]
  },
  {
   "cell_type": "code",
   "execution_count": null,
   "id": "b61cf21e",
   "metadata": {},
   "outputs": [],
   "source": []
  },
  {
   "cell_type": "markdown",
   "id": "e7d40a15",
   "metadata": {},
   "source": [
    "- y = n^2  and label it \"O(n^2)\""
   ]
  },
  {
   "cell_type": "code",
   "execution_count": null,
   "id": "3a7c1e3e",
   "metadata": {},
   "outputs": [],
   "source": []
  },
  {
   "cell_type": "markdown",
   "id": "c96495eb",
   "metadata": {},
   "source": [
    "- y = 2^n  and label it \"O(2^n)\""
   ]
  },
  {
   "cell_type": "code",
   "execution_count": null,
   "id": "b44a4fae",
   "metadata": {},
   "outputs": [],
   "source": []
  },
  {
   "cell_type": "markdown",
   "id": "e4af802e",
   "metadata": {},
   "source": [
    "- y = n!  and label it \"O(n!)\""
   ]
  },
  {
   "cell_type": "code",
   "execution_count": null,
   "id": "0c4a33c7",
   "metadata": {},
   "outputs": [],
   "source": []
  },
  {
   "cell_type": "markdown",
   "id": "c8951c69",
   "metadata": {},
   "source": [
    "- y = n^n  and label it \"O(n^n)\""
   ]
  },
  {
   "cell_type": "code",
   "execution_count": null,
   "id": "51193bbc",
   "metadata": {},
   "outputs": [],
   "source": []
  }
 ],
 "metadata": {
  "kernelspec": {
   "display_name": "Python 3 (ipykernel)",
   "language": "python",
   "name": "python3"
  },
  "language_info": {
   "codemirror_mode": {
    "name": "ipython",
    "version": 3
   },
   "file_extension": ".py",
   "mimetype": "text/x-python",
   "name": "python",
   "nbconvert_exporter": "python",
   "pygments_lexer": "ipython3",
   "version": "3.9.12"
  }
 },
 "nbformat": 4,
 "nbformat_minor": 5
}
