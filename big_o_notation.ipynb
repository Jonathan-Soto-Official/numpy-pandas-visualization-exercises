{
 "cells": [
  {
   "cell_type": "markdown",
   "id": "5350837e",
   "metadata": {},
   "source": [
    "- Title your chart \"Big O Notation\"\n",
    "- Label your x axis \"Elements\"\n",
    "- Label your y axis \"Operations\"\n",
    "- Label your curves or make a legend for the curves\n",
    "- Use LaTex notation where possible"
   ]
  },
  {
   "cell_type": "markdown",
   "id": "a4e9196a",
   "metadata": {},
   "source": [
    "Curves to graph:"
   ]
  },
  {
   "cell_type": "markdown",
   "id": "4d3d0fe1",
   "metadata": {},
   "source": [
    "- y = 0n + 1 and label the curve \"O(1)\""
   ]
  },
  {
   "cell_type": "code",
   "execution_count": null,
   "id": "bbde4075",
   "metadata": {},
   "outputs": [],
   "source": []
  },
  {
   "cell_type": "markdown",
   "id": "d8d179dc",
   "metadata": {},
   "source": [
    "- y = log() and label the curve \"O(log n)\""
   ]
  },
  {
   "cell_type": "code",
   "execution_count": null,
   "id": "7e4fe112",
   "metadata": {},
   "outputs": [],
   "source": []
  },
  {
   "cell_type": "markdown",
   "id": "d9e98923",
   "metadata": {},
   "source": [
    "- y = n  and label the curve \"O(n)\""
   ]
  },
  {
   "cell_type": "code",
   "execution_count": null,
   "id": "95375072",
   "metadata": {},
   "outputs": [],
   "source": []
  },
  {
   "cell_type": "markdown",
   "id": "3c2796c7",
   "metadata": {},
   "source": [
    "- y = n * log(n)  and label it \"O(n log n)\""
   ]
  },
  {
   "cell_type": "code",
   "execution_count": null,
   "id": "bd5a855e",
   "metadata": {},
   "outputs": [],
   "source": []
  },
  {
   "cell_type": "markdown",
   "id": "4c9be442",
   "metadata": {},
   "source": [
    "- y = n^2  and label it \"O(n^2)\""
   ]
  },
  {
   "cell_type": "code",
   "execution_count": null,
   "id": "2be91792",
   "metadata": {},
   "outputs": [],
   "source": []
  },
  {
   "cell_type": "markdown",
   "id": "4fea68cd",
   "metadata": {},
   "source": [
    "- y = 2^n  and label it \"O(2^n)\""
   ]
  },
  {
   "cell_type": "code",
   "execution_count": null,
   "id": "fd68a4f2",
   "metadata": {},
   "outputs": [],
   "source": []
  },
  {
   "cell_type": "markdown",
   "id": "7aaf44d1",
   "metadata": {},
   "source": [
    "- y = n!  and label it \"O(n!)\""
   ]
  },
  {
   "cell_type": "code",
   "execution_count": null,
   "id": "26416ea4",
   "metadata": {},
   "outputs": [],
   "source": []
  },
  {
   "cell_type": "markdown",
   "id": "3d17c2dc",
   "metadata": {},
   "source": [
    "- y = n^n  and label it \"O(n^n)\""
   ]
  },
  {
   "cell_type": "code",
   "execution_count": null,
   "id": "567cca6b",
   "metadata": {},
   "outputs": [],
   "source": []
  },
  {
   "cell_type": "markdown",
   "id": "52412757",
   "metadata": {},
   "source": [
    "<b> Bonus </b>: Write the code necessary to write your name on a chart. Use box letters."
   ]
  },
  {
   "cell_type": "code",
   "execution_count": null,
   "id": "62436b19",
   "metadata": {},
   "outputs": [],
   "source": []
  },
  {
   "cell_type": "markdown",
   "id": "0e55bff9",
   "metadata": {},
   "source": [
    "<b> Bonus </b>: use curves for letters in your name that have curves in them."
   ]
  },
  {
   "cell_type": "code",
   "execution_count": null,
   "id": "8a4f847c",
   "metadata": {},
   "outputs": [],
   "source": []
  }
 ],
 "metadata": {
  "kernelspec": {
   "display_name": "Python 3 (ipykernel)",
   "language": "python",
   "name": "python3"
  },
  "language_info": {
   "codemirror_mode": {
    "name": "ipython",
    "version": 3
   },
   "file_extension": ".py",
   "mimetype": "text/x-python",
   "name": "python",
   "nbconvert_exporter": "python",
   "pygments_lexer": "ipython3",
   "version": "3.9.12"
  }
 },
 "nbformat": 4,
 "nbformat_minor": 5
}
